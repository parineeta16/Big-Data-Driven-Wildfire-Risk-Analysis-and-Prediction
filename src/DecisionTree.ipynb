{
  "nbformat": 4,
  "nbformat_minor": 0,
  "metadata": {
    "colab": {
      "name": "DecisionTree.ipynb",
      "version": "0.3.2",
      "provenance": []
    },
    "kernelspec": {
      "name": "python3",
      "display_name": "Python 3"
    }
  },
  "cells": [
    {
      "cell_type": "code",
      "metadata": {
        "id": "gI2GWIFj4ge1",
        "colab_type": "code",
        "colab": {}
      },
      "source": [
        "###################################################################\n",
        "# This is code for Decision tree model\n",
        "#\n",
        "#\n",
        "# Step: Load necessary libraries\n",
        "###################################################################\n",
        "import pandas as pd\n",
        "import numpy as np\n",
        "import matplotlib.pyplot as plt\n",
        "import seaborn as sns\n",
        "%matplotlib inline"
      ],
      "execution_count": 0,
      "outputs": []
    },
    {
      "cell_type": "code",
      "metadata": {
        "id": "SNzEi3Fb4p3k",
        "colab_type": "code",
        "colab": {}
      },
      "source": [
        "###################################################################\n",
        "# Step: Load dataset\n",
        "###################################################################\n",
        "train = pd.read_csv('Monitoring_Trends_in_Burn_Severity_Burned_Area_Boundaries_Feature_Layer.csv')"
      ],
      "execution_count": 0,
      "outputs": []
    },
    {
      "cell_type": "code",
      "metadata": {
        "id": "wmOaKswe4soo",
        "colab_type": "code",
        "colab": {
          "base_uri": "https://localhost:8080/",
          "height": 195
        },
        "outputId": "692d0df1-1a2a-4f0f-f110-59a29a893d6f"
      },
      "source": [
        "###################################################################\n",
        "# Step: Load top 5 data instances\n",
        "###################################################################\n",
        "train.head()"
      ],
      "execution_count": 3,
      "outputs": [
        {
          "output_type": "execute_result",
          "data": {
            "text/html": [
              "<div>\n",
              "<style scoped>\n",
              "    .dataframe tbody tr th:only-of-type {\n",
              "        vertical-align: middle;\n",
              "    }\n",
              "\n",
              "    .dataframe tbody tr th {\n",
              "        vertical-align: top;\n",
              "    }\n",
              "\n",
              "    .dataframe thead th {\n",
              "        text-align: right;\n",
              "    }\n",
              "</style>\n",
              "<table border=\"1\" class=\"dataframe\">\n",
              "  <thead>\n",
              "    <tr style=\"text-align: right;\">\n",
              "      <th></th>\n",
              "      <th>OBJECTID</th>\n",
              "      <th>ACRES</th>\n",
              "      <th>FIRE_ID</th>\n",
              "      <th>FIRE_NAME</th>\n",
              "      <th>YEAR</th>\n",
              "      <th>STARTMONTH</th>\n",
              "      <th>STARTDAY</th>\n",
              "      <th>SHAPE_Length</th>\n",
              "      <th>SHAPE_Area</th>\n",
              "      <th>FIRE_TYPE</th>\n",
              "    </tr>\n",
              "  </thead>\n",
              "  <tbody>\n",
              "    <tr>\n",
              "      <th>0</th>\n",
              "      <td>1</td>\n",
              "      <td>1520</td>\n",
              "      <td>AK5674215793820060522</td>\n",
              "      <td>MESHIK RIVER</td>\n",
              "      <td>2006</td>\n",
              "      <td>5</td>\n",
              "      <td>22</td>\n",
              "      <td>26430.88478</td>\n",
              "      <td>2.039991e+07</td>\n",
              "      <td>2</td>\n",
              "    </tr>\n",
              "    <tr>\n",
              "      <th>1</th>\n",
              "      <td>2</td>\n",
              "      <td>4482</td>\n",
              "      <td>AK5759815753720050529</td>\n",
              "      <td>PILOT POINT</td>\n",
              "      <td>2005</td>\n",
              "      <td>5</td>\n",
              "      <td>29</td>\n",
              "      <td>45516.68117</td>\n",
              "      <td>6.298838e+07</td>\n",
              "      <td>2</td>\n",
              "    </tr>\n",
              "    <tr>\n",
              "      <th>2</th>\n",
              "      <td>3</td>\n",
              "      <td>3419</td>\n",
              "      <td>AK5761615232120150828</td>\n",
              "      <td>TWIN CREEKS</td>\n",
              "      <td>2015</td>\n",
              "      <td>8</td>\n",
              "      <td>28</td>\n",
              "      <td>78088.82515</td>\n",
              "      <td>4.806401e+07</td>\n",
              "      <td>2</td>\n",
              "    </tr>\n",
              "    <tr>\n",
              "      <th>3</th>\n",
              "      <td>4</td>\n",
              "      <td>5335</td>\n",
              "      <td>AK5884115754320150622</td>\n",
              "      <td>COPENHAGEN CREEK</td>\n",
              "      <td>2015</td>\n",
              "      <td>6</td>\n",
              "      <td>22</td>\n",
              "      <td>60614.97438</td>\n",
              "      <td>8.037206e+07</td>\n",
              "      <td>2</td>\n",
              "    </tr>\n",
              "    <tr>\n",
              "      <th>4</th>\n",
              "      <td>5</td>\n",
              "      <td>9684</td>\n",
              "      <td>AK5884415640120150621</td>\n",
              "      <td>PAULS CREEK</td>\n",
              "      <td>2015</td>\n",
              "      <td>6</td>\n",
              "      <td>21</td>\n",
              "      <td>95614.83278</td>\n",
              "      <td>1.460184e+08</td>\n",
              "      <td>2</td>\n",
              "    </tr>\n",
              "  </tbody>\n",
              "</table>\n",
              "</div>"
            ],
            "text/plain": [
              "   OBJECTID  ACRES                FIRE_ID         FIRE_NAME  YEAR  STARTMONTH  \\\n",
              "0         1   1520  AK5674215793820060522      MESHIK RIVER  2006           5   \n",
              "1         2   4482  AK5759815753720050529       PILOT POINT  2005           5   \n",
              "2         3   3419  AK5761615232120150828       TWIN CREEKS  2015           8   \n",
              "3         4   5335  AK5884115754320150622  COPENHAGEN CREEK  2015           6   \n",
              "4         5   9684  AK5884415640120150621       PAULS CREEK  2015           6   \n",
              "\n",
              "   STARTDAY  SHAPE_Length    SHAPE_Area  FIRE_TYPE  \n",
              "0        22   26430.88478  2.039991e+07          2  \n",
              "1        29   45516.68117  6.298838e+07          2  \n",
              "2        28   78088.82515  4.806401e+07          2  \n",
              "3        22   60614.97438  8.037206e+07          2  \n",
              "4        21   95614.83278  1.460184e+08          2  "
            ]
          },
          "metadata": {
            "tags": []
          },
          "execution_count": 3
        }
      ]
    },
    {
      "cell_type": "code",
      "metadata": {
        "id": "tusxIh0V4wGE",
        "colab_type": "code",
        "colab": {
          "base_uri": "https://localhost:8080/",
          "height": 281
        },
        "outputId": "7804621a-12f1-4b29-b2ba-3f4eac6609e4"
      },
      "source": [
        "###################################################################\n",
        "# Step: Load metadata / information about dataset\n",
        "###################################################################\n",
        "train.info()"
      ],
      "execution_count": 4,
      "outputs": [
        {
          "output_type": "stream",
          "text": [
            "<class 'pandas.core.frame.DataFrame'>\n",
            "RangeIndex: 21673 entries, 0 to 21672\n",
            "Data columns (total 10 columns):\n",
            "OBJECTID        21673 non-null int64\n",
            "ACRES           21673 non-null int64\n",
            "FIRE_ID         21673 non-null object\n",
            "FIRE_NAME       21673 non-null object\n",
            "YEAR            21673 non-null int64\n",
            "STARTMONTH      21673 non-null int64\n",
            "STARTDAY        21673 non-null int64\n",
            "SHAPE_Length    21673 non-null float64\n",
            "SHAPE_Area      21673 non-null float64\n",
            "FIRE_TYPE       21673 non-null int64\n",
            "dtypes: float64(2), int64(6), object(2)\n",
            "memory usage: 1.7+ MB\n"
          ],
          "name": "stdout"
        }
      ]
    },
    {
      "cell_type": "code",
      "metadata": {
        "id": "q8HA0BtW4zSi",
        "colab_type": "code",
        "colab": {}
      },
      "source": [
        "###################################################################\n",
        "# Step: Load unnecessary features into buffer for future use\n",
        "###################################################################\n",
        "fireid = pd.get_dummies(train['FIRE_ID'],drop_first=True)\n",
        "firename = pd.get_dummies(train['FIRE_NAME'],drop_first=True)"
      ],
      "execution_count": 0,
      "outputs": []
    },
    {
      "cell_type": "code",
      "metadata": {
        "id": "hLf-HNCF42lr",
        "colab_type": "code",
        "colab": {}
      },
      "source": [
        "###################################################################\n",
        "# Step: Drop unnecessary data features\n",
        "###################################################################\n",
        "train.drop(['FIRE_ID','FIRE_NAME'],axis=1,inplace=True)"
      ],
      "execution_count": 0,
      "outputs": []
    },
    {
      "cell_type": "code",
      "metadata": {
        "id": "lWoHqm3Q46Jm",
        "colab_type": "code",
        "colab": {}
      },
      "source": [
        "###################################################################\n",
        "# Step: Split data into training and testing set by\n",
        "#       randomly choosing instances in ratio 70:30\n",
        "###################################################################\n",
        "from sklearn.model_selection import train_test_split\n",
        "X_train, X_test, y_train, y_test = train_test_split(train.drop('FIRE_TYPE',axis=1),train['FIRE_TYPE'], test_size=0.30,random_state=101)"
      ],
      "execution_count": 0,
      "outputs": []
    },
    {
      "cell_type": "code",
      "metadata": {
        "id": "4wuIs9uj49Qp",
        "colab_type": "code",
        "colab": {}
      },
      "source": [
        "###################################################################\n",
        "# Step: Build and train Decision tree model\n",
        "###################################################################\n",
        "from sklearn.tree import DecisionTreeRegressor   \n",
        "regressor = DecisionTreeRegressor(random_state = 0)  \n",
        "regressor.fit(X_train, y_train) \n",
        "predictions = regressor.predict(X_test)"
      ],
      "execution_count": 0,
      "outputs": []
    },
    {
      "cell_type": "code",
      "metadata": {
        "id": "6XPYVcdk5GZL",
        "colab_type": "code",
        "colab": {
          "base_uri": "https://localhost:8080/",
          "height": 228
        },
        "outputId": "3dccca36-bc52-461a-978b-9a2ee296c297"
      },
      "source": [
        "###################################################################\n",
        "# Step: Test decision tree model\n",
        "###################################################################\n",
        "import sklearn\n",
        "from sklearn.metrics import classification_report\n",
        "from sklearn.metrics import accuracy_score\n",
        "print(classification_report(y_test,predictions))\n",
        "print(\"Accuracy of decision tree model is :\",accuracy_score(y_test, predictions))"
      ],
      "execution_count": 9,
      "outputs": [
        {
          "output_type": "stream",
          "text": [
            "              precision    recall  f1-score   support\n",
            "\n",
            "           0       0.77      0.79      0.78      1625\n",
            "           1       0.68      0.68      0.68      1036\n",
            "           2       0.85      0.83      0.84      3777\n",
            "           3       0.10      0.14      0.12        64\n",
            "\n",
            "   micro avg       0.79      0.79      0.79      6502\n",
            "   macro avg       0.60      0.61      0.60      6502\n",
            "weighted avg       0.79      0.79      0.79      6502\n",
            "\n",
            "Accuracy of decision tree model is : 0.7882190095355275\n"
          ],
          "name": "stdout"
        }
      ]
    },
    {
      "cell_type": "code",
      "metadata": {
        "id": "c7aiosKe5OJm",
        "colab_type": "code",
        "colab": {}
      },
      "source": [
        "###################################################################\n",
        "# Step: Perform k-fold cross validation\n",
        "###################################################################\n",
        "from sklearn.tree import DecisionTreeRegressor  \n",
        "from sklearn.model_selection import cross_val_score\n",
        "regressor = DecisionTreeRegressor(random_state = 0) \n",
        "k_range = [5,10,15,20,25,30,35,40,45,50]\n",
        "k_scores = []\n",
        "for k in k_range:\n",
        "    scores = cross_val_score(regressor, train.drop('FIRE_TYPE',axis=1), train['FIRE_TYPE'], cv=k, scoring='accuracy')\n",
        "    k_scores.append(scores.mean())"
      ],
      "execution_count": 0,
      "outputs": []
    },
    {
      "cell_type": "code",
      "metadata": {
        "id": "wF2zE55H5iQp",
        "colab_type": "code",
        "colab": {
          "base_uri": "https://localhost:8080/",
          "height": 301
        },
        "outputId": "3902e6f3-251b-48a8-b388-94039af11a48"
      },
      "source": [
        "###################################################################\n",
        "# Step: Visualize results of k-fold cross validation\n",
        "###################################################################\n",
        "import matplotlib.pyplot as plt\n",
        "%matplotlib inline\n",
        "\n",
        "plt.plot(k_range, k_scores)\n",
        "plt.xlabel('Value of K for K fold cross validation')\n",
        "plt.ylabel('Cross-validated accuracy')"
      ],
      "execution_count": 11,
      "outputs": [
        {
          "output_type": "execute_result",
          "data": {
            "text/plain": [
              "Text(0, 0.5, 'Cross-validated accuracy')"
            ]
          },
          "metadata": {
            "tags": []
          },
          "execution_count": 11
        },
        {
          "output_type": "display_data",
          "data": {
            "image/png": "[encoded data removed]",
            "text/plain": [
              "<Figure size 432x288 with 1 Axes>"
            ]
          },
          "metadata": {
            "tags": []
          }
        }
      ]
    }
  ]
}