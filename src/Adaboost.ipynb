{
  "nbformat": 4,
  "nbformat_minor": 0,
  "metadata": {
    "colab": {
      "name": "Adaboost.ipynb",
      "version": "0.3.2",
      "provenance": []
    },
    "kernelspec": {
      "name": "python3",
      "display_name": "Python 3"
    }
  },
  "cells": [
    {
      "cell_type": "code",
      "metadata": {
        "id": "WAFnpKrB5m35",
        "colab_type": "code",
        "colab": {}
      },
      "source": [
        "###################################################################\n",
        "# This is code for Adaboost model\n",
        "#\n",
        "#\n",
        "# Step: Load necessary libraries\n",
        "###################################################################\n",
        "import pandas as pd\n",
        "import numpy as np\n",
        "import matplotlib.pyplot as plt\n",
        "import seaborn as sns\n",
        "%matplotlib inline"
      ],
      "execution_count": 0,
      "outputs": []
    },
    {
      "cell_type": "code",
      "metadata": {
        "id": "AJ8YIUif5urc",
        "colab_type": "code",
        "colab": {}
      },
      "source": [
        "###################################################################\n",
        "# Step: Load dataset\n",
        "###################################################################\n",
        "train = pd.read_csv('Monitoring_Trends_in_Burn_Severity_Burned_Area_Boundaries_Feature_Layer.csv')"
      ],
      "execution_count": 0,
      "outputs": []
    },
    {
      "cell_type": "code",
      "metadata": {
        "id": "CmT0Q8cZ5x-t",
        "colab_type": "code",
        "colab": {
          "base_uri": "https://localhost:8080/",
          "height": 195
        },
        "outputId": "f6801a16-67e8-4aa3-ad0f-23d77e17dae6"
      },
      "source": [
        "###################################################################\n",
        "# Step: Load top 5 data instances\n",
        "###################################################################\n",
        "train.head()"
      ],
      "execution_count": 3,
      "outputs": [
        {
          "output_type": "execute_result",
          "data": {
            "text/html": [
              "<div>\n",
              "<style scoped>\n",
              "    .dataframe tbody tr th:only-of-type {\n",
              "        vertical-align: middle;\n",
              "    }\n",
              "\n",
              "    .dataframe tbody tr th {\n",
              "        vertical-align: top;\n",
              "    }\n",
              "\n",
              "    .dataframe thead th {\n",
              "        text-align: right;\n",
              "    }\n",
              "</style>\n",
              "<table border=\"1\" class=\"dataframe\">\n",
              "  <thead>\n",
              "    <tr style=\"text-align: right;\">\n",
              "      <th></th>\n",
              "      <th>OBJECTID</th>\n",
              "      <th>ACRES</th>\n",
              "      <th>FIRE_ID</th>\n",
              "      <th>FIRE_NAME</th>\n",
              "      <th>YEAR</th>\n",
              "      <th>STARTMONTH</th>\n",
              "      <th>STARTDAY</th>\n",
              "      <th>SHAPE_Length</th>\n",
              "      <th>SHAPE_Area</th>\n",
              "      <th>FIRE_TYPE</th>\n",
              "    </tr>\n",
              "  </thead>\n",
              "  <tbody>\n",
              "    <tr>\n",
              "      <th>0</th>\n",
              "      <td>1</td>\n",
              "      <td>1520</td>\n",
              "      <td>AK5674215793820060522</td>\n",
              "      <td>MESHIK RIVER</td>\n",
              "      <td>2006</td>\n",
              "      <td>5</td>\n",
              "      <td>22</td>\n",
              "      <td>26430.88478</td>\n",
              "      <td>2.039991e+07</td>\n",
              "      <td>2</td>\n",
              "    </tr>\n",
              "    <tr>\n",
              "      <th>1</th>\n",
              "      <td>2</td>\n",
              "      <td>4482</td>\n",
              "      <td>AK5759815753720050529</td>\n",
              "      <td>PILOT POINT</td>\n",
              "      <td>2005</td>\n",
              "      <td>5</td>\n",
              "      <td>29</td>\n",
              "      <td>45516.68117</td>\n",
              "      <td>6.298838e+07</td>\n",
              "      <td>2</td>\n",
              "    </tr>\n",
              "    <tr>\n",
              "      <th>2</th>\n",
              "      <td>3</td>\n",
              "      <td>3419</td>\n",
              "      <td>AK5761615232120150828</td>\n",
              "      <td>TWIN CREEKS</td>\n",
              "      <td>2015</td>\n",
              "      <td>8</td>\n",
              "      <td>28</td>\n",
              "      <td>78088.82515</td>\n",
              "      <td>4.806401e+07</td>\n",
              "      <td>2</td>\n",
              "    </tr>\n",
              "    <tr>\n",
              "      <th>3</th>\n",
              "      <td>4</td>\n",
              "      <td>5335</td>\n",
              "      <td>AK5884115754320150622</td>\n",
              "      <td>COPENHAGEN CREEK</td>\n",
              "      <td>2015</td>\n",
              "      <td>6</td>\n",
              "      <td>22</td>\n",
              "      <td>60614.97438</td>\n",
              "      <td>8.037206e+07</td>\n",
              "      <td>2</td>\n",
              "    </tr>\n",
              "    <tr>\n",
              "      <th>4</th>\n",
              "      <td>5</td>\n",
              "      <td>9684</td>\n",
              "      <td>AK5884415640120150621</td>\n",
              "      <td>PAULS CREEK</td>\n",
              "      <td>2015</td>\n",
              "      <td>6</td>\n",
              "      <td>21</td>\n",
              "      <td>95614.83278</td>\n",
              "      <td>1.460184e+08</td>\n",
              "      <td>2</td>\n",
              "    </tr>\n",
              "  </tbody>\n",
              "</table>\n",
              "</div>"
            ],
            "text/plain": [
              "   OBJECTID  ACRES                FIRE_ID         FIRE_NAME  YEAR  STARTMONTH  \\\n",
              "0         1   1520  AK5674215793820060522      MESHIK RIVER  2006           5   \n",
              "1         2   4482  AK5759815753720050529       PILOT POINT  2005           5   \n",
              "2         3   3419  AK5761615232120150828       TWIN CREEKS  2015           8   \n",
              "3         4   5335  AK5884115754320150622  COPENHAGEN CREEK  2015           6   \n",
              "4         5   9684  AK5884415640120150621       PAULS CREEK  2015           6   \n",
              "\n",
              "   STARTDAY  SHAPE_Length    SHAPE_Area  FIRE_TYPE  \n",
              "0        22   26430.88478  2.039991e+07          2  \n",
              "1        29   45516.68117  6.298838e+07          2  \n",
              "2        28   78088.82515  4.806401e+07          2  \n",
              "3        22   60614.97438  8.037206e+07          2  \n",
              "4        21   95614.83278  1.460184e+08          2  "
            ]
          },
          "metadata": {
            "tags": []
          },
          "execution_count": 3
        }
      ]
    },
    {
      "cell_type": "code",
      "metadata": {
        "id": "XUSKoYBZ51JP",
        "colab_type": "code",
        "colab": {
          "base_uri": "https://localhost:8080/",
          "height": 281
        },
        "outputId": "811710ae-431d-4b9d-f604-50a86f99791b"
      },
      "source": [
        "###################################################################\n",
        "# Step: Load metadata / information about dataset\n",
        "###################################################################\n",
        "train.info()"
      ],
      "execution_count": 4,
      "outputs": [
        {
          "output_type": "stream",
          "text": [
            "<class 'pandas.core.frame.DataFrame'>\n",
            "RangeIndex: 21673 entries, 0 to 21672\n",
            "Data columns (total 10 columns):\n",
            "OBJECTID        21673 non-null int64\n",
            "ACRES           21673 non-null int64\n",
            "FIRE_ID         21673 non-null object\n",
            "FIRE_NAME       21673 non-null object\n",
            "YEAR            21673 non-null int64\n",
            "STARTMONTH      21673 non-null int64\n",
            "STARTDAY        21673 non-null int64\n",
            "SHAPE_Length    21673 non-null float64\n",
            "SHAPE_Area      21673 non-null float64\n",
            "FIRE_TYPE       21673 non-null int64\n",
            "dtypes: float64(2), int64(6), object(2)\n",
            "memory usage: 1.7+ MB\n"
          ],
          "name": "stdout"
        }
      ]
    },
    {
      "cell_type": "code",
      "metadata": {
        "id": "ftneZsQQ54jL",
        "colab_type": "code",
        "colab": {}
      },
      "source": [
        "###################################################################\n",
        "# Step: Load unnecessary features into buffer for future use\n",
        "###################################################################\n",
        "fireid = pd.get_dummies(train['FIRE_ID'],drop_first=True)\n",
        "firename = pd.get_dummies(train['FIRE_NAME'],drop_first=True)"
      ],
      "execution_count": 0,
      "outputs": []
    },
    {
      "cell_type": "code",
      "metadata": {
        "id": "TEVeEagN57zp",
        "colab_type": "code",
        "colab": {}
      },
      "source": [
        "###################################################################\n",
        "# Step: Drop unnecessary data features\n",
        "###################################################################\n",
        "train.drop(['FIRE_ID','FIRE_NAME'],axis=1,inplace=True)"
      ],
      "execution_count": 0,
      "outputs": []
    },
    {
      "cell_type": "code",
      "metadata": {
        "id": "oUzBGL2u5_y0",
        "colab_type": "code",
        "colab": {}
      },
      "source": [
        "###################################################################\n",
        "# Step: Split data into training and testing set by\n",
        "#       randomly choosing instances in ratio 70:30\n",
        "###################################################################\n",
        "from sklearn.model_selection import train_test_split\n",
        "X_train, X_test, y_train, y_test = train_test_split(train.drop('FIRE_TYPE',axis=1),train['FIRE_TYPE'], test_size=0.30,random_state=101)"
      ],
      "execution_count": 0,
      "outputs": []
    },
    {
      "cell_type": "code",
      "metadata": {
        "id": "XRgWM9US6G3G",
        "colab_type": "code",
        "colab": {}
      },
      "source": [
        "###################################################################\n",
        "# Step: Build and train Adaboost model\n",
        "###################################################################\n",
        "from sklearn.ensemble import AdaBoostClassifier\n",
        "abc = AdaBoostClassifier(n_estimators=50, learning_rate=1)\n",
        "model = abc.fit(X_train, y_train)\n",
        "predictions = model.predict(X_test)"
      ],
      "execution_count": 0,
      "outputs": []
    },
    {
      "cell_type": "code",
      "metadata": {
        "id": "Tdr0Bvdi6QNe",
        "colab_type": "code",
        "colab": {
          "base_uri": "https://localhost:8080/",
          "height": 228
        },
        "outputId": "9f345b7f-e41c-46ac-83cf-c0eba63bc91a"
      },
      "source": [
        "###################################################################\n",
        "# Step: Test Adaboost model\n",
        "###################################################################\n",
        "import sklearn\n",
        "from sklearn.metrics import classification_report\n",
        "from sklearn.metrics import accuracy_score\n",
        "print(classification_report(y_test,predictions))\n",
        "print(\"Accuracy of adaboost model is :\",accuracy_score(y_test, predictions))"
      ],
      "execution_count": 9,
      "outputs": [
        {
          "output_type": "stream",
          "text": [
            "              precision    recall  f1-score   support\n",
            "\n",
            "           0       0.67      0.60      0.63      1625\n",
            "           1       0.47      0.53      0.50      1036\n",
            "           2       0.81      0.82      0.81      3777\n",
            "           3       0.16      0.09      0.12        64\n",
            "\n",
            "   micro avg       0.71      0.71      0.71      6502\n",
            "   macro avg       0.53      0.51      0.52      6502\n",
            "weighted avg       0.71      0.71      0.71      6502\n",
            "\n",
            "Accuracy of adaboost model is : 0.7116271916333435\n"
          ],
          "name": "stdout"
        }
      ]
    },
    {
      "cell_type": "code",
      "metadata": {
        "id": "GOfa65g56aFM",
        "colab_type": "code",
        "colab": {}
      },
      "source": [
        "###################################################################\n",
        "# Step: Perform k-fold cross validation\n",
        "###################################################################\n",
        "from sklearn.ensemble import AdaBoostClassifier\n",
        "from sklearn.model_selection import cross_val_score\n",
        "abclf = AdaBoostClassifier(n_estimators=50, learning_rate=1)\n",
        "k_range = [5,10,15,20,25,30,35,40,45,50]\n",
        "k_scores = []\n",
        "for k in k_range:\n",
        "    scores = cross_val_score(abclf, train.drop('FIRE_TYPE',axis=1), train['FIRE_TYPE'], cv=k, scoring='accuracy')\n",
        "    k_scores.append(scores.mean())"
      ],
      "execution_count": 0,
      "outputs": []
    },
    {
      "cell_type": "code",
      "metadata": {
        "id": "TOgtVXqN8SYT",
        "colab_type": "code",
        "colab": {
          "base_uri": "https://localhost:8080/",
          "height": 301
        },
        "outputId": "cd3b01de-13c4-42bb-ef27-b89d5fddc6e3"
      },
      "source": [
        "###################################################################\n",
        "# Step: Visualize results of k-fold cross validation\n",
        "###################################################################\n",
        "import matplotlib.pyplot as plt\n",
        "%matplotlib inline\n",
        "\n",
        "plt.plot(k_range, k_scores)\n",
        "plt.xlabel('Value of K for K fold cross validation')\n",
        "plt.ylabel('Cross-validated accuracy')"
      ],
      "execution_count": 11,
      "outputs": [
        {
          "output_type": "execute_result",
          "data": {
            "text/plain": [
              "Text(0, 0.5, 'Cross-validated accuracy')"
            ]
          },
          "metadata": {
            "tags": []
          },
          "execution_count": 11
        },
        {
          "output_type": "display_data",
          "data": {
            "image/png": "[encoded data removed]",
            "text/plain": [
              "<Figure size 432x288 with 1 Axes>"
            ]
          },
          "metadata": {
            "tags": []
          }
        }
      ]
    }
  ]
}