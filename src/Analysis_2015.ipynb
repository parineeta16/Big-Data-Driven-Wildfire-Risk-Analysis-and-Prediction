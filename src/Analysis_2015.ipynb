{
  "nbformat": 4,
  "nbformat_minor": 0,
  "metadata": {
    "colab": {
      "name": "Analysis_2015.ipynb",
      "version": "0.3.2",
      "provenance": []
    },
    "kernelspec": {
      "name": "python3",
      "display_name": "Python 3"
    }
  },
  "cells": [
    {
      "cell_type": "code",
      "metadata": {
        "id": "1oz44F7z-nlm",
        "colab_type": "code",
        "colab": {}
      },
      "source": [
        "###################################################################\n",
        "# This is code for Analysis of data for year 2015\n",
        "#\n",
        "#\n",
        "# Step: Load necessary libraries\n",
        "###################################################################\n",
        "import pandas as pd\n",
        "import numpy as np"
      ],
      "execution_count": 0,
      "outputs": []
    },
    {
      "cell_type": "code",
      "metadata": {
        "id": "EDrVmc4v_GYX",
        "colab_type": "code",
        "colab": {}
      },
      "source": [
        "#################################################################\n",
        "# Step: Load dataset\n",
        "#################################################################\n",
        "firedata = pd.ExcelFile('Fires_100.xlsx')"
      ],
      "execution_count": 0,
      "outputs": []
    },
    {
      "cell_type": "code",
      "metadata": {
        "id": "fdwb9ChoItrQ",
        "colab_type": "code",
        "outputId": "23b463e8-8041-4cde-8e3d-aef219ea7be8",
        "colab": {
          "base_uri": "https://localhost:8080/",
          "height": 34
        }
      },
      "source": [
        "print(firedata.sheet_names)"
      ],
      "execution_count": 0,
      "outputs": [
        {
          "output_type": "stream",
          "text": [
            "['2017', '2016', '2015', '2014']\n"
          ],
          "name": "stdout"
        }
      ]
    },
    {
      "cell_type": "code",
      "metadata": {
        "id": "UYq5WZRiI4fR",
        "colab_type": "code",
        "colab": {}
      },
      "source": [
        "#################################################################\n",
        "# Step: Select particular data from given dataset\n",
        "#################################################################\n",
        "train = firedata.parse('2015')"
      ],
      "execution_count": 0,
      "outputs": []
    },
    {
      "cell_type": "code",
      "metadata": {
        "id": "zDCo5GJYJGHU",
        "colab_type": "code",
        "outputId": "df2141a8-99b3-420a-d46d-05cd6504bfde",
        "colab": {
          "base_uri": "https://localhost:8080/",
          "height": 369
        }
      },
      "source": [
        "#################################################################\n",
        "# Step: Cause - Number of incidents analysis\n",
        "#################################################################\n",
        "distribution = train['CAUSE'].value_counts()\n",
        "print(distribution)\n",
        "distribution = train['CAUSE'].value_counts()\n",
        "print(distribution)"
      ],
      "execution_count": 0,
      "outputs": [
        {
          "output_type": "stream",
          "text": [
            "14 - Unknown / Unidentified      6218\n",
            "9 - Miscellaneous                1957\n",
            "1 - Lightning                    1475\n",
            "2 - Equipment Use                 508\n",
            "7 - Arson                         457\n",
            "5 - Debris                        224\n",
            "4 - Campfire                      180\n",
            "3 - Smoking                       144\n",
            "10 - Vehicle                      139\n",
            "11 - Powerline                    126\n",
            "8 - Playing with fire              77\n",
            "18 - Escaped Prescribed Burn       39\n",
            "6 - Railroad                       32\n",
            "<Null>                             13\n",
            "15 - Structure                      8\n",
            "13 - Non-Firefighter Training       7\n",
            "16 - Aircraft                       6\n",
            "12 - Firefighter Training           4\n",
            "19 - Illegal Alien Campfire         4\n",
            "Name: CAUSE, dtype: int64\n"
          ],
          "name": "stdout"
        }
      ]
    },
    {
      "cell_type": "code",
      "metadata": {
        "id": "Ps6v7l8aJSrE",
        "colab_type": "code",
        "outputId": "571a737f-d7c6-48ea-fce4-e0a42289a8f3",
        "colab": {
          "base_uri": "https://localhost:8080/",
          "height": 411
        }
      },
      "source": [
        "#################################################################\n",
        "# Step: Visualization of Cause-Number of incidents analysis\n",
        "#################################################################\n",
        "import matplotlib.pyplot as plt\n",
        "plt.figure(figsize=(6,6))\n",
        "plt.title('Distribution by cause-Year 2015', y=-0.15)\n",
        "plt.pie(distribution, labels=list(distribution.index[:-2]) + ['', '']);\n",
        "plt.axis('equal');"
      ],
      "execution_count": 0,
      "outputs": [
        {
          "output_type": "display_data",
          "data": {
            "image/png": "[encoded data removed]",
            "text/plain": [
              "<Figure size 432x432 with 1 Axes>"
            ]
          },
          "metadata": {
            "tags": []
          }
        }
      ]
    },
    {
      "cell_type": "code",
      "metadata": {
        "id": "58z7JW4xnPaP",
        "colab_type": "code",
        "outputId": "d10df891-0caa-4214-9e6f-d26f150fddeb",
        "colab": {
          "base_uri": "https://localhost:8080/",
          "height": 193
        }
      },
      "source": [
        "#################################################################\n",
        "# Step: Method - Number of incidents analysis\n",
        "#################################################################\n",
        "distribution = train['C_METHOD'].value_counts()\n",
        "print(distribution)"
      ],
      "execution_count": 0,
      "outputs": [
        {
          "output_type": "stream",
          "text": [
            "<Null>                          8446\n",
            "8 - Unknown                     1489\n",
            "1 - GPS Ground                   583\n",
            "7 - Mixed Collection Methods     348\n",
            "2 - GPS Air                      342\n",
            "6 - Hand Drawn                   250\n",
            "3 - Infrared                      76\n",
            "4 - Other Imagery                 64\n",
            "5 - Photo Interpretation          20\n",
            "Name: C_METHOD, dtype: int64\n"
          ],
          "name": "stdout"
        }
      ]
    },
    {
      "cell_type": "code",
      "metadata": {
        "id": "FjzBFRsqnT7P",
        "colab_type": "code",
        "outputId": "e1b640d7-4987-4d20-b3bf-9b1024c31558",
        "colab": {
          "base_uri": "https://localhost:8080/",
          "height": 406
        }
      },
      "source": [
        "#################################################################\n",
        "# Step: Visualization of Method-Number of incidents analysis\n",
        "#################################################################\n",
        "import matplotlib.pyplot as plt\n",
        "plt.figure(figsize=(6,6))\n",
        "plt.title('Distribution by method-year 2015', y=-0.15)\n",
        "plt.pie(distribution, labels=list(distribution.index[:-2]) + ['', '']);\n",
        "plt.axis('equal');"
      ],
      "execution_count": 0,
      "outputs": [
        {
          "output_type": "display_data",
          "data": {
            "image/png": "[encoded data removed]",
            "text/plain": [
              "<Figure size 432x432 with 1 Axes>"
            ]
          },
          "metadata": {
            "tags": []
          }
        }
      ]
    },
    {
      "cell_type": "code",
      "metadata": {
        "id": "Uqn2XsLJpUwS",
        "colab_type": "code",
        "outputId": "07a0728e-68cb-481d-dd26-011e8c93c408",
        "colab": {
          "base_uri": "https://localhost:8080/",
          "height": 639
        }
      },
      "source": [
        "#################################################################\n",
        "# Step: Cause - Burnt area analysis\n",
        "#################################################################\n",
        "train.groupby('CAUSE').mean()[['GIS_ACRES']]"
      ],
      "execution_count": 0,
      "outputs": [
        {
          "output_type": "execute_result",
          "data": {
            "text/html": [
              "<div>\n",
              "<style scoped>\n",
              "    .dataframe tbody tr th:only-of-type {\n",
              "        vertical-align: middle;\n",
              "    }\n",
              "\n",
              "    .dataframe tbody tr th {\n",
              "        vertical-align: top;\n",
              "    }\n",
              "\n",
              "    .dataframe thead th {\n",
              "        text-align: right;\n",
              "    }\n",
              "</style>\n",
              "<table border=\"1\" class=\"dataframe\">\n",
              "  <thead>\n",
              "    <tr style=\"text-align: right;\">\n",
              "      <th></th>\n",
              "      <th>GIS_ACRES</th>\n",
              "    </tr>\n",
              "    <tr>\n",
              "      <th>CAUSE</th>\n",
              "      <th></th>\n",
              "    </tr>\n",
              "  </thead>\n",
              "  <tbody>\n",
              "    <tr>\n",
              "      <th>1 - Lightning</th>\n",
              "      <td>4565.722109</td>\n",
              "    </tr>\n",
              "    <tr>\n",
              "      <th>10 - Vehicle</th>\n",
              "      <td>1376.119417</td>\n",
              "    </tr>\n",
              "    <tr>\n",
              "      <th>11 - Powerline</th>\n",
              "      <td>2069.046421</td>\n",
              "    </tr>\n",
              "    <tr>\n",
              "      <th>12 - Firefighter Training</th>\n",
              "      <td>723.625975</td>\n",
              "    </tr>\n",
              "    <tr>\n",
              "      <th>13 - Non-Firefighter Training</th>\n",
              "      <td>1580.487757</td>\n",
              "    </tr>\n",
              "    <tr>\n",
              "      <th>14 - Unknown / Unidentified</th>\n",
              "      <td>1888.582182</td>\n",
              "    </tr>\n",
              "    <tr>\n",
              "      <th>15 - Structure</th>\n",
              "      <td>921.300238</td>\n",
              "    </tr>\n",
              "    <tr>\n",
              "      <th>16 - Aircraft</th>\n",
              "      <td>5699.175667</td>\n",
              "    </tr>\n",
              "    <tr>\n",
              "      <th>18 - Escaped Prescribed Burn</th>\n",
              "      <td>1375.800846</td>\n",
              "    </tr>\n",
              "    <tr>\n",
              "      <th>19 - Illegal Alien Campfire</th>\n",
              "      <td>235.789225</td>\n",
              "    </tr>\n",
              "    <tr>\n",
              "      <th>2 - Equipment Use</th>\n",
              "      <td>3309.897749</td>\n",
              "    </tr>\n",
              "    <tr>\n",
              "      <th>3 - Smoking</th>\n",
              "      <td>2447.041819</td>\n",
              "    </tr>\n",
              "    <tr>\n",
              "      <th>4 - Campfire</th>\n",
              "      <td>6634.182877</td>\n",
              "    </tr>\n",
              "    <tr>\n",
              "      <th>5 - Debris</th>\n",
              "      <td>2496.410058</td>\n",
              "    </tr>\n",
              "    <tr>\n",
              "      <th>6 - Railroad</th>\n",
              "      <td>2867.140853</td>\n",
              "    </tr>\n",
              "    <tr>\n",
              "      <th>7 - Arson</th>\n",
              "      <td>4032.465676</td>\n",
              "    </tr>\n",
              "    <tr>\n",
              "      <th>8 - Playing with fire</th>\n",
              "      <td>1531.910621</td>\n",
              "    </tr>\n",
              "    <tr>\n",
              "      <th>9 - Miscellaneous</th>\n",
              "      <td>3470.238511</td>\n",
              "    </tr>\n",
              "    <tr>\n",
              "      <th>&lt;Null&gt;</th>\n",
              "      <td>3814.782231</td>\n",
              "    </tr>\n",
              "  </tbody>\n",
              "</table>\n",
              "</div>"
            ],
            "text/plain": [
              "                                 GIS_ACRES\n",
              "CAUSE                                     \n",
              "1 - Lightning                  4565.722109\n",
              "10 - Vehicle                   1376.119417\n",
              "11 - Powerline                 2069.046421\n",
              "12 - Firefighter Training       723.625975\n",
              "13 - Non-Firefighter Training  1580.487757\n",
              "14 - Unknown / Unidentified    1888.582182\n",
              "15 - Structure                  921.300238\n",
              "16 - Aircraft                  5699.175667\n",
              "18 - Escaped Prescribed Burn   1375.800846\n",
              "19 - Illegal Alien Campfire     235.789225\n",
              "2 - Equipment Use              3309.897749\n",
              "3 - Smoking                    2447.041819\n",
              "4 - Campfire                   6634.182877\n",
              "5 - Debris                     2496.410058\n",
              "6 - Railroad                   2867.140853\n",
              "7 - Arson                      4032.465676\n",
              "8 - Playing with fire          1531.910621\n",
              "9 - Miscellaneous              3470.238511\n",
              "<Null>                         3814.782231"
            ]
          },
          "metadata": {
            "tags": []
          },
          "execution_count": 9
        }
      ]
    },
    {
      "cell_type": "code",
      "metadata": {
        "id": "kfs5NSgb1wt3",
        "colab_type": "code",
        "outputId": "df9d305b-ef2e-4f85-c816-c81f77366ab7",
        "colab": {
          "base_uri": "https://localhost:8080/",
          "height": 343
        }
      },
      "source": [
        "#################################################################\n",
        "# Step: Method - Burnt area analysis\n",
        "#################################################################\n",
        "train.groupby('C_METHOD').mean()[['GIS_ACRES']]"
      ],
      "execution_count": 0,
      "outputs": [
        {
          "output_type": "execute_result",
          "data": {
            "text/html": [
              "<div>\n",
              "<style scoped>\n",
              "    .dataframe tbody tr th:only-of-type {\n",
              "        vertical-align: middle;\n",
              "    }\n",
              "\n",
              "    .dataframe tbody tr th {\n",
              "        vertical-align: top;\n",
              "    }\n",
              "\n",
              "    .dataframe thead th {\n",
              "        text-align: right;\n",
              "    }\n",
              "</style>\n",
              "<table border=\"1\" class=\"dataframe\">\n",
              "  <thead>\n",
              "    <tr style=\"text-align: right;\">\n",
              "      <th></th>\n",
              "      <th>GIS_ACRES</th>\n",
              "    </tr>\n",
              "    <tr>\n",
              "      <th>C_METHOD</th>\n",
              "      <th></th>\n",
              "    </tr>\n",
              "  </thead>\n",
              "  <tbody>\n",
              "    <tr>\n",
              "      <th>1 - GPS Ground</th>\n",
              "      <td>1089.226607</td>\n",
              "    </tr>\n",
              "    <tr>\n",
              "      <th>2 - GPS Air</th>\n",
              "      <td>4567.629006</td>\n",
              "    </tr>\n",
              "    <tr>\n",
              "      <th>3 - Infrared</th>\n",
              "      <td>19124.211342</td>\n",
              "    </tr>\n",
              "    <tr>\n",
              "      <th>4 - Other Imagery</th>\n",
              "      <td>1274.868681</td>\n",
              "    </tr>\n",
              "    <tr>\n",
              "      <th>5 - Photo Interpretation</th>\n",
              "      <td>5793.389725</td>\n",
              "    </tr>\n",
              "    <tr>\n",
              "      <th>6 - Hand Drawn</th>\n",
              "      <td>1964.983388</td>\n",
              "    </tr>\n",
              "    <tr>\n",
              "      <th>7 - Mixed Collection Methods</th>\n",
              "      <td>8091.025197</td>\n",
              "    </tr>\n",
              "    <tr>\n",
              "      <th>8 - Unknown</th>\n",
              "      <td>4510.257253</td>\n",
              "    </tr>\n",
              "    <tr>\n",
              "      <th>&lt;Null&gt;</th>\n",
              "      <td>2113.372745</td>\n",
              "    </tr>\n",
              "  </tbody>\n",
              "</table>\n",
              "</div>"
            ],
            "text/plain": [
              "                                 GIS_ACRES\n",
              "C_METHOD                                  \n",
              "1 - GPS Ground                 1089.226607\n",
              "2 - GPS Air                    4567.629006\n",
              "3 - Infrared                  19124.211342\n",
              "4 - Other Imagery              1274.868681\n",
              "5 - Photo Interpretation       5793.389725\n",
              "6 - Hand Drawn                 1964.983388\n",
              "7 - Mixed Collection Methods   8091.025197\n",
              "8 - Unknown                    4510.257253\n",
              "<Null>                         2113.372745"
            ]
          },
          "metadata": {
            "tags": []
          },
          "execution_count": 10
        }
      ]
    }
  ]
}