{
  "nbformat": 4,
  "nbformat_minor": 0,
  "metadata": {
    "colab": {
      "name": "Analysis_2017.ipynb",
      "version": "0.3.2",
      "provenance": []
    },
    "kernelspec": {
      "name": "python3",
      "display_name": "Python 3"
    }
  },
  "cells": [
    {
      "cell_type": "code",
      "metadata": {
        "id": "1oz44F7z-nlm",
        "colab_type": "code",
        "colab": {}
      },
      "source": [
        "###################################################################\n",
        "# This is code for Analysis of data for year 2017\n",
        "#\n",
        "#\n",
        "# Step: Load necessary libraries\n",
        "###################################################################\n",
        "import pandas as pd\n",
        "import numpy as np"
      ],
      "execution_count": 0,
      "outputs": []
    },
    {
      "cell_type": "code",
      "metadata": {
        "id": "EDrVmc4v_GYX",
        "colab_type": "code",
        "colab": {}
      },
      "source": [
        "#################################################################\n",
        "# Step: Load dataset\n",
        "#################################################################\n",
        "firedata = pd.ExcelFile('Fires_100.xlsx')"
      ],
      "execution_count": 0,
      "outputs": []
    },
    {
      "cell_type": "code",
      "metadata": {
        "id": "fdwb9ChoItrQ",
        "colab_type": "code",
        "outputId": "dea8372c-caeb-4e41-e147-09e4ec5e1d6f",
        "colab": {
          "base_uri": "https://localhost:8080/",
          "height": 34
        }
      },
      "source": [
        "print(firedata.sheet_names)"
      ],
      "execution_count": 0,
      "outputs": [
        {
          "output_type": "stream",
          "text": [
            "['2017', '2016', '2015', '2014']\n"
          ],
          "name": "stdout"
        }
      ]
    },
    {
      "cell_type": "code",
      "metadata": {
        "id": "UYq5WZRiI4fR",
        "colab_type": "code",
        "colab": {}
      },
      "source": [
        "#################################################################\n",
        "# Step: Select particular data from given dataset\n",
        "#################################################################\n",
        "train = firedata.parse('2017')"
      ],
      "execution_count": 0,
      "outputs": []
    },
    {
      "cell_type": "code",
      "metadata": {
        "id": "zDCo5GJYJGHU",
        "colab_type": "code",
        "outputId": "3cd676bb-176a-4e01-84a1-307f6caddfe3",
        "colab": {
          "base_uri": "https://localhost:8080/",
          "height": 193
        }
      },
      "source": [
        "#################################################################\n",
        "# Step: Cause - Number of incidents analysis\n",
        "#################################################################\n",
        "distribution = train['CAUSE'].value_counts()\n",
        "print(distribution)"
      ],
      "execution_count": 0,
      "outputs": [
        {
          "output_type": "stream",
          "text": [
            "1 - Lightning                  58\n",
            "14 - Unknown / Unidentified    40\n",
            "9 - Miscellaneous              21\n",
            "2 - Equipment Use              18\n",
            "10 - Vehicle                   16\n",
            "11 - Powerline                 11\n",
            "7 - Arson                      11\n",
            "5 - Debris                      5\n",
            "4 - Campfire                    2\n",
            "Name: CAUSE, dtype: int64\n"
          ],
          "name": "stdout"
        }
      ]
    },
    {
      "cell_type": "code",
      "metadata": {
        "id": "Ps6v7l8aJSrE",
        "colab_type": "code",
        "outputId": "53e8b906-c614-445d-bae0-7b996ede7d46",
        "colab": {
          "base_uri": "https://localhost:8080/",
          "height": 406
        }
      },
      "source": [
        "#################################################################\n",
        "# Step: Visualization of Cause-Number of incidents analysis\n",
        "#################################################################\n",
        "import matplotlib.pyplot as plt\n",
        "plt.figure(figsize=(6,6))\n",
        "plt.title('Distribution by cause-Year 2017', y=-0.15)\n",
        "plt.pie(distribution, labels=list(distribution.index[:-2]) + ['', '']);\n",
        "plt.axis('equal');"
      ],
      "execution_count": 0,
      "outputs": [
        {
          "output_type": "display_data",
          "data": {
            "image/png": "[encoded data removed]",
            "text/plain": [
              "<Figure size 432x432 with 1 Axes>"
            ]
          },
          "metadata": {
            "tags": []
          }
        }
      ]
    },
    {
      "cell_type": "code",
      "metadata": {
        "id": "58z7JW4xnPaP",
        "colab_type": "code",
        "outputId": "50f97c64-830f-414f-d846-dfab965a2ae8",
        "colab": {
          "base_uri": "https://localhost:8080/",
          "height": 158
        }
      },
      "source": [
        "#################################################################\n",
        "# Step: Method - Number of incidents analysis\n",
        "#################################################################\n",
        "distribution = train['C_METHOD'].value_counts()\n",
        "print(distribution)"
      ],
      "execution_count": 0,
      "outputs": [
        {
          "output_type": "stream",
          "text": [
            "1 - GPS Ground                  84\n",
            "8 - Unknown                     24\n",
            "7 - Mixed Collection Methods    23\n",
            "3 - Infrared                    21\n",
            "2 - GPS Air                     15\n",
            "6 - Hand Drawn                  14\n",
            "5 - Photo Interpretation         1\n",
            "Name: C_METHOD, dtype: int64\n"
          ],
          "name": "stdout"
        }
      ]
    },
    {
      "cell_type": "code",
      "metadata": {
        "id": "FjzBFRsqnT7P",
        "colab_type": "code",
        "outputId": "4c1046ed-3639-4aab-b44d-0c545a96929c",
        "colab": {
          "base_uri": "https://localhost:8080/",
          "height": 409
        }
      },
      "source": [
        "#################################################################\n",
        "# Step: Visualization of Method-Number of incidents analysis\n",
        "#################################################################\n",
        "import matplotlib.pyplot as plt\n",
        "plt.figure(figsize=(6,6))\n",
        "plt.title('Distribution by method-year 2017', y=-0.15)\n",
        "plt.pie(distribution, labels=list(distribution.index[:-2]) + ['', '']);\n",
        "plt.axis('equal');"
      ],
      "execution_count": 0,
      "outputs": [
        {
          "output_type": "display_data",
          "data": {
            "image/png": "[encoded data removed]",
            "text/plain": [
              "<Figure size 432x432 with 1 Axes>"
            ]
          },
          "metadata": {
            "tags": []
          }
        }
      ]
    },
    {
      "cell_type": "code",
      "metadata": {
        "id": "Uqn2XsLJpUwS",
        "colab_type": "code",
        "outputId": "0ec0c060-2e67-4664-ed5f-13600b578a6f",
        "colab": {
          "base_uri": "https://localhost:8080/",
          "height": 343
        }
      },
      "source": [
        "#################################################################\n",
        "# Step: Cause - Burnt area analysis\n",
        "#################################################################\n",
        "train.groupby('CAUSE').mean()[['GIS_ACRES']]"
      ],
      "execution_count": 0,
      "outputs": [
        {
          "output_type": "execute_result",
          "data": {
            "text/html": [
              "<div>\n",
              "<style scoped>\n",
              "    .dataframe tbody tr th:only-of-type {\n",
              "        vertical-align: middle;\n",
              "    }\n",
              "\n",
              "    .dataframe tbody tr th {\n",
              "        vertical-align: top;\n",
              "    }\n",
              "\n",
              "    .dataframe thead th {\n",
              "        text-align: right;\n",
              "    }\n",
              "</style>\n",
              "<table border=\"1\" class=\"dataframe\">\n",
              "  <thead>\n",
              "    <tr style=\"text-align: right;\">\n",
              "      <th></th>\n",
              "      <th>GIS_ACRES</th>\n",
              "    </tr>\n",
              "    <tr>\n",
              "      <th>CAUSE</th>\n",
              "      <th></th>\n",
              "    </tr>\n",
              "  </thead>\n",
              "  <tbody>\n",
              "    <tr>\n",
              "      <th>1 - Lightning</th>\n",
              "      <td>7618.599107</td>\n",
              "    </tr>\n",
              "    <tr>\n",
              "      <th>10 - Vehicle</th>\n",
              "      <td>10828.515450</td>\n",
              "    </tr>\n",
              "    <tr>\n",
              "      <th>11 - Powerline</th>\n",
              "      <td>1271.504718</td>\n",
              "    </tr>\n",
              "    <tr>\n",
              "      <th>14 - Unknown / Unidentified</th>\n",
              "      <td>6698.855010</td>\n",
              "    </tr>\n",
              "    <tr>\n",
              "      <th>2 - Equipment Use</th>\n",
              "      <td>1534.036822</td>\n",
              "    </tr>\n",
              "    <tr>\n",
              "      <th>4 - Campfire</th>\n",
              "      <td>310.937000</td>\n",
              "    </tr>\n",
              "    <tr>\n",
              "      <th>5 - Debris</th>\n",
              "      <td>2274.384440</td>\n",
              "    </tr>\n",
              "    <tr>\n",
              "      <th>7 - Arson</th>\n",
              "      <td>4555.280709</td>\n",
              "    </tr>\n",
              "    <tr>\n",
              "      <th>9 - Miscellaneous</th>\n",
              "      <td>20416.709005</td>\n",
              "    </tr>\n",
              "  </tbody>\n",
              "</table>\n",
              "</div>"
            ],
            "text/plain": [
              "                                GIS_ACRES\n",
              "CAUSE                                    \n",
              "1 - Lightning                 7618.599107\n",
              "10 - Vehicle                 10828.515450\n",
              "11 - Powerline                1271.504718\n",
              "14 - Unknown / Unidentified   6698.855010\n",
              "2 - Equipment Use             1534.036822\n",
              "4 - Campfire                   310.937000\n",
              "5 - Debris                    2274.384440\n",
              "7 - Arson                     4555.280709\n",
              "9 - Miscellaneous            20416.709005"
            ]
          },
          "metadata": {
            "tags": []
          },
          "execution_count": 63
        }
      ]
    },
    {
      "cell_type": "code",
      "metadata": {
        "id": "kfs5NSgb1wt3",
        "colab_type": "code",
        "outputId": "19793bbe-ce58-4f2c-dcb2-1790a1250deb",
        "colab": {
          "base_uri": "https://localhost:8080/",
          "height": 284
        }
      },
      "source": [
        "#################################################################\n",
        "# Step: Method - Burnt area analysis\n",
        "#################################################################\n",
        "train.groupby('C_METHOD').mean()[['GIS_ACRES']]"
      ],
      "execution_count": 0,
      "outputs": [
        {
          "output_type": "execute_result",
          "data": {
            "text/html": [
              "<div>\n",
              "<style scoped>\n",
              "    .dataframe tbody tr th:only-of-type {\n",
              "        vertical-align: middle;\n",
              "    }\n",
              "\n",
              "    .dataframe tbody tr th {\n",
              "        vertical-align: top;\n",
              "    }\n",
              "\n",
              "    .dataframe thead th {\n",
              "        text-align: right;\n",
              "    }\n",
              "</style>\n",
              "<table border=\"1\" class=\"dataframe\">\n",
              "  <thead>\n",
              "    <tr style=\"text-align: right;\">\n",
              "      <th></th>\n",
              "      <th>GIS_ACRES</th>\n",
              "    </tr>\n",
              "    <tr>\n",
              "      <th>C_METHOD</th>\n",
              "      <th></th>\n",
              "    </tr>\n",
              "  </thead>\n",
              "  <tbody>\n",
              "    <tr>\n",
              "      <th>1 - GPS Ground</th>\n",
              "      <td>2201.596702</td>\n",
              "    </tr>\n",
              "    <tr>\n",
              "      <th>2 - GPS Air</th>\n",
              "      <td>5990.061253</td>\n",
              "    </tr>\n",
              "    <tr>\n",
              "      <th>3 - Infrared</th>\n",
              "      <td>21736.644448</td>\n",
              "    </tr>\n",
              "    <tr>\n",
              "      <th>5 - Photo Interpretation</th>\n",
              "      <td>702.306600</td>\n",
              "    </tr>\n",
              "    <tr>\n",
              "      <th>6 - Hand Drawn</th>\n",
              "      <td>5887.836114</td>\n",
              "    </tr>\n",
              "    <tr>\n",
              "      <th>7 - Mixed Collection Methods</th>\n",
              "      <td>20097.916404</td>\n",
              "    </tr>\n",
              "    <tr>\n",
              "      <th>8 - Unknown</th>\n",
              "      <td>5787.604954</td>\n",
              "    </tr>\n",
              "  </tbody>\n",
              "</table>\n",
              "</div>"
            ],
            "text/plain": [
              "                                 GIS_ACRES\n",
              "C_METHOD                                  \n",
              "1 - GPS Ground                 2201.596702\n",
              "2 - GPS Air                    5990.061253\n",
              "3 - Infrared                  21736.644448\n",
              "5 - Photo Interpretation        702.306600\n",
              "6 - Hand Drawn                 5887.836114\n",
              "7 - Mixed Collection Methods  20097.916404\n",
              "8 - Unknown                    5787.604954"
            ]
          },
          "metadata": {
            "tags": []
          },
          "execution_count": 64
        }
      ]
    }
  ]
}