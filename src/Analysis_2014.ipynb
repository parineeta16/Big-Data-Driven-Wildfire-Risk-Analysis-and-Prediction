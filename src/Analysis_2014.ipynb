{
  "nbformat": 4,
  "nbformat_minor": 0,
  "metadata": {
    "colab": {
      "name": "Analysis_2014.ipynb",
      "version": "0.3.2",
      "provenance": []
    },
    "kernelspec": {
      "name": "python3",
      "display_name": "Python 3"
    }
  },
  "cells": [
    {
      "cell_type": "code",
      "metadata": {
        "id": "1oz44F7z-nlm",
        "colab_type": "code",
        "colab": {}
      },
      "source": [
        "###################################################################\n",
        "# This is code for Analysis of data for year 2014\n",
        "#\n",
        "#\n",
        "# Step: Load necessary libraries\n",
        "###################################################################\n",
        "import pandas as pd\n",
        "import numpy as np"
      ],
      "execution_count": 0,
      "outputs": []
    },
    {
      "cell_type": "code",
      "metadata": {
        "id": "EDrVmc4v_GYX",
        "colab_type": "code",
        "colab": {}
      },
      "source": [
        "#################################################################\n",
        "# Step: Load dataset\n",
        "#################################################################\n",
        "firedata = pd.ExcelFile('Fires_100.xlsx')"
      ],
      "execution_count": 0,
      "outputs": []
    },
    {
      "cell_type": "code",
      "metadata": {
        "id": "fdwb9ChoItrQ",
        "colab_type": "code",
        "outputId": "a251a6f8-a2d9-4816-c469-e8897b4ee82c",
        "colab": {
          "base_uri": "https://localhost:8080/",
          "height": 34
        }
      },
      "source": [
        "print(firedata.sheet_names)"
      ],
      "execution_count": 0,
      "outputs": [
        {
          "output_type": "stream",
          "text": [
            "['2017', '2016', '2015', '2014']\n"
          ],
          "name": "stdout"
        }
      ]
    },
    {
      "cell_type": "code",
      "metadata": {
        "id": "UYq5WZRiI4fR",
        "colab_type": "code",
        "colab": {}
      },
      "source": [
        "#################################################################\n",
        "# Step: Select particular data from given dataset\n",
        "#################################################################\n",
        "train = firedata.parse('2014')"
      ],
      "execution_count": 0,
      "outputs": []
    },
    {
      "cell_type": "code",
      "metadata": {
        "id": "zDCo5GJYJGHU",
        "colab_type": "code",
        "outputId": "db10be94-7cf3-49c0-ab68-03f11fc3567e",
        "colab": {
          "base_uri": "https://localhost:8080/",
          "height": 351
        }
      },
      "source": [
        "#################################################################\n",
        "# Step: Cause - Number of incidents analysis\n",
        "#################################################################\n",
        "distribution = train['CAUSE'].value_counts()\n",
        "print(distribution)"
      ],
      "execution_count": 0,
      "outputs": [
        {
          "output_type": "stream",
          "text": [
            "Unknown / Unidentified      6174\n",
            "Miscellaneous               1945\n",
            "Lightning                   1412\n",
            "Equipment Use                500\n",
            "Arson                        446\n",
            "Debris                       220\n",
            "Campfire                     175\n",
            "Smoking                      144\n",
            "Vehicle                      135\n",
            "Powerline                    123\n",
            "Playing with fire             75\n",
            "Escaped Prescribed Burn       37\n",
            "Railroad                      32\n",
            "Structure                      8\n",
            "Non-Firefighter Training       7\n",
            "Aircraft                       5\n",
            "Firefighter Training           4\n",
            "Illegal Alien Campfire         4\n",
            "Name: CAUSE, dtype: int64\n"
          ],
          "name": "stdout"
        }
      ]
    },
    {
      "cell_type": "code",
      "metadata": {
        "id": "Ps6v7l8aJSrE",
        "colab_type": "code",
        "outputId": "1a36de05-f3a8-4ef1-a4ea-59fb36d9cfbb",
        "colab": {
          "base_uri": "https://localhost:8080/",
          "height": 410
        }
      },
      "source": [
        "#################################################################\n",
        "# Step: Visualization of Cause-Number of incidents analysis\n",
        "#################################################################\n",
        "import matplotlib.pyplot as plt\n",
        "plt.figure(figsize=(6,6))\n",
        "plt.title('Distribution by cause-Year 2014', y=-0.15)\n",
        "plt.pie(distribution, labels=list(distribution.index[:-2]) + ['', '']);\n",
        "plt.axis('equal');"
      ],
      "execution_count": 0,
      "outputs": [
        {
          "output_type": "display_data",
          "data": {
            "image/png": "[encoded data removed]",
            "text/plain": [
              "<Figure size 432x432 with 1 Axes>"
            ]
          },
          "metadata": {
            "tags": []
          }
        }
      ]
    },
    {
      "cell_type": "code",
      "metadata": {
        "id": "Uqn2XsLJpUwS",
        "colab_type": "code",
        "outputId": "e36b05d6-0b77-4c91-8f94-21b62ea1fddf",
        "colab": {
          "base_uri": "https://localhost:8080/",
          "height": 610
        }
      },
      "source": [
        "#################################################################\n",
        "# Step: Cause - Burnt area analysis\n",
        "#################################################################\n",
        "train.groupby('CAUSE').mean()[['GIS ACRES']]"
      ],
      "execution_count": 0,
      "outputs": [
        {
          "output_type": "execute_result",
          "data": {
            "text/html": [
              "<div>\n",
              "<style scoped>\n",
              "    .dataframe tbody tr th:only-of-type {\n",
              "        vertical-align: middle;\n",
              "    }\n",
              "\n",
              "    .dataframe tbody tr th {\n",
              "        vertical-align: top;\n",
              "    }\n",
              "\n",
              "    .dataframe thead th {\n",
              "        text-align: right;\n",
              "    }\n",
              "</style>\n",
              "<table border=\"1\" class=\"dataframe\">\n",
              "  <thead>\n",
              "    <tr style=\"text-align: right;\">\n",
              "      <th></th>\n",
              "      <th>GIS ACRES</th>\n",
              "    </tr>\n",
              "    <tr>\n",
              "      <th>CAUSE</th>\n",
              "      <th></th>\n",
              "    </tr>\n",
              "  </thead>\n",
              "  <tbody>\n",
              "    <tr>\n",
              "      <th>Aircraft</th>\n",
              "      <td>6779.046400</td>\n",
              "    </tr>\n",
              "    <tr>\n",
              "      <th>Arson</th>\n",
              "      <td>4102.137128</td>\n",
              "    </tr>\n",
              "    <tr>\n",
              "      <th>Campfire</th>\n",
              "      <td>6684.979314</td>\n",
              "    </tr>\n",
              "    <tr>\n",
              "      <th>Debris</th>\n",
              "      <td>2538.800750</td>\n",
              "    </tr>\n",
              "    <tr>\n",
              "      <th>Equipment Use</th>\n",
              "      <td>3336.077120</td>\n",
              "    </tr>\n",
              "    <tr>\n",
              "      <th>Escaped Prescribed Burn</th>\n",
              "      <td>1432.523432</td>\n",
              "    </tr>\n",
              "    <tr>\n",
              "      <th>Firefighter Training</th>\n",
              "      <td>723.627000</td>\n",
              "    </tr>\n",
              "    <tr>\n",
              "      <th>Illegal Alien Campfire</th>\n",
              "      <td>235.789500</td>\n",
              "    </tr>\n",
              "    <tr>\n",
              "      <th>Lightning</th>\n",
              "      <td>4358.916533</td>\n",
              "    </tr>\n",
              "    <tr>\n",
              "      <th>Miscellaneous</th>\n",
              "      <td>3426.099812</td>\n",
              "    </tr>\n",
              "    <tr>\n",
              "      <th>Non-Firefighter Training</th>\n",
              "      <td>1580.487286</td>\n",
              "    </tr>\n",
              "    <tr>\n",
              "      <th>Playing with fire</th>\n",
              "      <td>1493.932920</td>\n",
              "    </tr>\n",
              "    <tr>\n",
              "      <th>Powerline</th>\n",
              "      <td>2095.967171</td>\n",
              "    </tr>\n",
              "    <tr>\n",
              "      <th>Railroad</th>\n",
              "      <td>2867.139688</td>\n",
              "    </tr>\n",
              "    <tr>\n",
              "      <th>Smoking</th>\n",
              "      <td>2447.040986</td>\n",
              "    </tr>\n",
              "    <tr>\n",
              "      <th>Structure</th>\n",
              "      <td>921.300250</td>\n",
              "    </tr>\n",
              "    <tr>\n",
              "      <th>Unknown / Unidentified</th>\n",
              "      <td>1865.653559</td>\n",
              "    </tr>\n",
              "    <tr>\n",
              "      <th>Vehicle</th>\n",
              "      <td>1449.117844</td>\n",
              "    </tr>\n",
              "  </tbody>\n",
              "</table>\n",
              "</div>"
            ],
            "text/plain": [
              "                            GIS ACRES\n",
              "CAUSE                                \n",
              "Aircraft                  6779.046400\n",
              "Arson                     4102.137128\n",
              "Campfire                  6684.979314\n",
              "Debris                    2538.800750\n",
              "Equipment Use             3336.077120\n",
              "Escaped Prescribed Burn   1432.523432\n",
              "Firefighter Training       723.627000\n",
              "Illegal Alien Campfire     235.789500\n",
              "Lightning                 4358.916533\n",
              "Miscellaneous             3426.099812\n",
              "Non-Firefighter Training  1580.487286\n",
              "Playing with fire         1493.932920\n",
              "Powerline                 2095.967171\n",
              "Railroad                  2867.139688\n",
              "Smoking                   2447.040986\n",
              "Structure                  921.300250\n",
              "Unknown / Unidentified    1865.653559\n",
              "Vehicle                   1449.117844"
            ]
          },
          "metadata": {
            "tags": []
          },
          "execution_count": 9
        }
      ]
    }
  ]
}