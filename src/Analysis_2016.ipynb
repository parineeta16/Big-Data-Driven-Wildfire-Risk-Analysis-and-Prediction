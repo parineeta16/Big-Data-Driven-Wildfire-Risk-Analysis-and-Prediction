{
  "nbformat": 4,
  "nbformat_minor": 0,
  "metadata": {
    "colab": {
      "name": "Analysis_2016.ipynb",
      "version": "0.3.2",
      "provenance": []
    },
    "kernelspec": {
      "name": "python3",
      "display_name": "Python 3"
    }
  },
  "cells": [
    {
      "cell_type": "code",
      "metadata": {
        "id": "1oz44F7z-nlm",
        "colab_type": "code",
        "colab": {}
      },
      "source": [
        "###################################################################\n",
        "# This is code for Analysis of data for year 2016\n",
        "#\n",
        "#\n",
        "# Step: Load necessary libraries\n",
        "###################################################################\n",
        "import pandas as pd\n",
        "import numpy as np"
      ],
      "execution_count": 0,
      "outputs": []
    },
    {
      "cell_type": "code",
      "metadata": {
        "id": "EDrVmc4v_GYX",
        "colab_type": "code",
        "colab": {}
      },
      "source": [
        "#################################################################\n",
        "# Step: Load dataset\n",
        "#################################################################\n",
        "firedata = pd.ExcelFile('Fires_100.xlsx')"
      ],
      "execution_count": 0,
      "outputs": []
    },
    {
      "cell_type": "code",
      "metadata": {
        "id": "fdwb9ChoItrQ",
        "colab_type": "code",
        "outputId": "ef87d668-8a1e-44f9-a52e-4e25e6620c6a",
        "colab": {
          "base_uri": "https://localhost:8080/",
          "height": 34
        }
      },
      "source": [
        "print(firedata.sheet_names)"
      ],
      "execution_count": 0,
      "outputs": [
        {
          "output_type": "stream",
          "text": [
            "['2017', '2016', '2015', '2014']\n"
          ],
          "name": "stdout"
        }
      ]
    },
    {
      "cell_type": "code",
      "metadata": {
        "id": "UYq5WZRiI4fR",
        "colab_type": "code",
        "colab": {}
      },
      "source": [
        "#################################################################\n",
        "# Step: Select particular data from given dataset\n",
        "#################################################################\n",
        "train = firedata.parse('2016')"
      ],
      "execution_count": 0,
      "outputs": []
    },
    {
      "cell_type": "code",
      "metadata": {
        "id": "zDCo5GJYJGHU",
        "colab_type": "code",
        "outputId": "72c0acbc-359b-4730-c382-4c3bf5161730",
        "colab": {
          "base_uri": "https://localhost:8080/",
          "height": 369
        }
      },
      "source": [
        "#################################################################\n",
        "# Step: Cause - Number of incidents analysis\n",
        "#################################################################\n",
        "distribution = train['CAUSE'].value_counts()\n",
        "print(distribution)"
      ],
      "execution_count": 0,
      "outputs": [
        {
          "output_type": "stream",
          "text": [
            "14 - Unknown / Unidentified      6327\n",
            "9 - Miscellaneous                1975\n",
            "1 - Lightning                    1485\n",
            "2 - Equipment Use                 519\n",
            "7 - Arson                         466\n",
            "5 - Debris                        226\n",
            "4 - Campfire                      182\n",
            "10 - Vehicle                      148\n",
            "3 - Smoking                       145\n",
            "11 - Powerline                    129\n",
            "8 - Playing with fire              78\n",
            "18 - Escaped Prescribed Burn       40\n",
            "6 - Railroad                       33\n",
            "<Null>                             11\n",
            "15 - Structure                      9\n",
            "16 - Aircraft                       7\n",
            "13 - Non-Firefighter Training       7\n",
            "12 - Firefighter Training           4\n",
            "19 - Illegal Alien Campfire         4\n",
            "Name: CAUSE, dtype: int64\n"
          ],
          "name": "stdout"
        }
      ]
    },
    {
      "cell_type": "code",
      "metadata": {
        "id": "Ps6v7l8aJSrE",
        "colab_type": "code",
        "outputId": "0f3b574a-f70f-4f6e-fd7b-78d0220163af",
        "colab": {
          "base_uri": "https://localhost:8080/",
          "height": 410
        }
      },
      "source": [
        "#################################################################\n",
        "# Step: Visualization of Cause-Number of incidents analysis\n",
        "#################################################################\n",
        "import matplotlib.pyplot as plt\n",
        "plt.figure(figsize=(6,6))\n",
        "plt.title('Distribution by cause-Year 2016', y=-0.15)\n",
        "plt.pie(distribution, labels=list(distribution.index[:-2]) + ['', '']);\n",
        "plt.axis('equal');"
      ],
      "execution_count": 0,
      "outputs": [
        {
          "output_type": "display_data",
          "data": {
            "image/png": "[encoded data removed]",
            "text/plain": [
              "<Figure size 432x432 with 1 Axes>"
            ]
          },
          "metadata": {
            "tags": []
          }
        }
      ]
    },
    {
      "cell_type": "code",
      "metadata": {
        "id": "58z7JW4xnPaP",
        "colab_type": "code",
        "outputId": "7adf1134-6809-48b7-e356-fca2b66ded64",
        "colab": {
          "base_uri": "https://localhost:8080/",
          "height": 193
        }
      },
      "source": [
        "#################################################################\n",
        "# Step: Method - Number of incidents analysis\n",
        "#################################################################\n",
        "distribution = train['C_METHOD'].value_counts()\n",
        "print(distribution)"
      ],
      "execution_count": 0,
      "outputs": [
        {
          "output_type": "stream",
          "text": [
            "<Null>                          8443\n",
            "8 - Unknown                     1496\n",
            "1 - GPS Ground                   622\n",
            "2 - GPS Air                      356\n",
            "7 - Mixed Collection Methods     351\n",
            "6 - Hand Drawn                   334\n",
            "3 - Infrared                      91\n",
            "4 - Other Imagery                 81\n",
            "5 - Photo Interpretation          21\n",
            "Name: C_METHOD, dtype: int64\n"
          ],
          "name": "stdout"
        }
      ]
    },
    {
      "cell_type": "code",
      "metadata": {
        "id": "FjzBFRsqnT7P",
        "colab_type": "code",
        "outputId": "d2a8656a-80c8-4c40-9a6e-83b3e529da84",
        "colab": {
          "base_uri": "https://localhost:8080/",
          "height": 406
        }
      },
      "source": [
        "#################################################################\n",
        "# Step: Visualization of Method-Number of incidents analysis\n",
        "#################################################################\n",
        "import matplotlib.pyplot as plt\n",
        "plt.figure(figsize=(6,6))\n",
        "plt.title('Distribution by method-year 2016', y=-0.15)\n",
        "plt.pie(distribution, labels=list(distribution.index[:-2]) + ['', '']);\n",
        "plt.axis('equal');"
      ],
      "execution_count": 0,
      "outputs": [
        {
          "output_type": "display_data",
          "data": {
            "image/png": "[encoded data removed]",
            "text/plain": [
              "<Figure size 432x432 with 1 Axes>"
            ]
          },
          "metadata": {
            "tags": []
          }
        }
      ]
    },
    {
      "cell_type": "code",
      "metadata": {
        "id": "Uqn2XsLJpUwS",
        "colab_type": "code",
        "outputId": "d566267d-4b86-4d45-d1ab-4d17712ea00f",
        "colab": {
          "base_uri": "https://localhost:8080/",
          "height": 639
        }
      },
      "source": [
        "#################################################################\n",
        "# Step: Cause - Burnt area analysis\n",
        "#################################################################\n",
        "train.groupby('CAUSE').mean()[['GIS_ACRES']]"
      ],
      "execution_count": 0,
      "outputs": [
        {
          "output_type": "execute_result",
          "data": {
            "text/html": [
              "<div>\n",
              "<style scoped>\n",
              "    .dataframe tbody tr th:only-of-type {\n",
              "        vertical-align: middle;\n",
              "    }\n",
              "\n",
              "    .dataframe tbody tr th {\n",
              "        vertical-align: top;\n",
              "    }\n",
              "\n",
              "    .dataframe thead th {\n",
              "        text-align: right;\n",
              "    }\n",
              "</style>\n",
              "<table border=\"1\" class=\"dataframe\">\n",
              "  <thead>\n",
              "    <tr style=\"text-align: right;\">\n",
              "      <th></th>\n",
              "      <th>GIS_ACRES</th>\n",
              "    </tr>\n",
              "    <tr>\n",
              "      <th>CAUSE</th>\n",
              "      <th></th>\n",
              "    </tr>\n",
              "  </thead>\n",
              "  <tbody>\n",
              "    <tr>\n",
              "      <th>1 - Lightning</th>\n",
              "      <td>4546.653735</td>\n",
              "    </tr>\n",
              "    <tr>\n",
              "      <th>10 - Vehicle</th>\n",
              "      <td>1632.806195</td>\n",
              "    </tr>\n",
              "    <tr>\n",
              "      <th>11 - Powerline</th>\n",
              "      <td>2028.048067</td>\n",
              "    </tr>\n",
              "    <tr>\n",
              "      <th>12 - Firefighter Training</th>\n",
              "      <td>723.625975</td>\n",
              "    </tr>\n",
              "    <tr>\n",
              "      <th>13 - Non-Firefighter Training</th>\n",
              "      <td>1580.487757</td>\n",
              "    </tr>\n",
              "    <tr>\n",
              "      <th>14 - Unknown / Unidentified</th>\n",
              "      <td>1883.832158</td>\n",
              "    </tr>\n",
              "    <tr>\n",
              "      <th>15 - Structure</th>\n",
              "      <td>848.515556</td>\n",
              "    </tr>\n",
              "    <tr>\n",
              "      <th>16 - Aircraft</th>\n",
              "      <td>4930.116343</td>\n",
              "    </tr>\n",
              "    <tr>\n",
              "      <th>18 - Escaped Prescribed Burn</th>\n",
              "      <td>1351.131550</td>\n",
              "    </tr>\n",
              "    <tr>\n",
              "      <th>19 - Illegal Alien Campfire</th>\n",
              "      <td>235.789225</td>\n",
              "    </tr>\n",
              "    <tr>\n",
              "      <th>2 - Equipment Use</th>\n",
              "      <td>3324.904691</td>\n",
              "    </tr>\n",
              "    <tr>\n",
              "      <th>3 - Smoking</th>\n",
              "      <td>2431.070361</td>\n",
              "    </tr>\n",
              "    <tr>\n",
              "      <th>4 - Campfire</th>\n",
              "      <td>7301.258804</td>\n",
              "    </tr>\n",
              "    <tr>\n",
              "      <th>5 - Debris</th>\n",
              "      <td>2502.544664</td>\n",
              "    </tr>\n",
              "    <tr>\n",
              "      <th>6 - Railroad</th>\n",
              "      <td>2791.761509</td>\n",
              "    </tr>\n",
              "    <tr>\n",
              "      <th>7 - Arson</th>\n",
              "      <td>4061.283422</td>\n",
              "    </tr>\n",
              "    <tr>\n",
              "      <th>8 - Playing with fire</th>\n",
              "      <td>1519.207873</td>\n",
              "    </tr>\n",
              "    <tr>\n",
              "      <th>9 - Miscellaneous</th>\n",
              "      <td>3503.883578</td>\n",
              "    </tr>\n",
              "    <tr>\n",
              "      <th>&lt;Null&gt;</th>\n",
              "      <td>4486.085455</td>\n",
              "    </tr>\n",
              "  </tbody>\n",
              "</table>\n",
              "</div>"
            ],
            "text/plain": [
              "                                 GIS_ACRES\n",
              "CAUSE                                     \n",
              "1 - Lightning                  4546.653735\n",
              "10 - Vehicle                   1632.806195\n",
              "11 - Powerline                 2028.048067\n",
              "12 - Firefighter Training       723.625975\n",
              "13 - Non-Firefighter Training  1580.487757\n",
              "14 - Unknown / Unidentified    1883.832158\n",
              "15 - Structure                  848.515556\n",
              "16 - Aircraft                  4930.116343\n",
              "18 - Escaped Prescribed Burn   1351.131550\n",
              "19 - Illegal Alien Campfire     235.789225\n",
              "2 - Equipment Use              3324.904691\n",
              "3 - Smoking                    2431.070361\n",
              "4 - Campfire                   7301.258804\n",
              "5 - Debris                     2502.544664\n",
              "6 - Railroad                   2791.761509\n",
              "7 - Arson                      4061.283422\n",
              "8 - Playing with fire          1519.207873\n",
              "9 - Miscellaneous              3503.883578\n",
              "<Null>                         4486.085455"
            ]
          },
          "metadata": {
            "tags": []
          },
          "execution_count": 9
        }
      ]
    },
    {
      "cell_type": "code",
      "metadata": {
        "id": "kfs5NSgb1wt3",
        "colab_type": "code",
        "outputId": "ec4c3710-319c-4ddf-cf5c-0151590dc6d8",
        "colab": {
          "base_uri": "https://localhost:8080/",
          "height": 343
        }
      },
      "source": [
        "#################################################################\n",
        "# Step: Method - Burnt area analysis\n",
        "#################################################################\n",
        "train.groupby('C_METHOD').mean()[['GIS_ACRES']]"
      ],
      "execution_count": 0,
      "outputs": [
        {
          "output_type": "execute_result",
          "data": {
            "text/html": [
              "<div>\n",
              "<style scoped>\n",
              "    .dataframe tbody tr th:only-of-type {\n",
              "        vertical-align: middle;\n",
              "    }\n",
              "\n",
              "    .dataframe tbody tr th {\n",
              "        vertical-align: top;\n",
              "    }\n",
              "\n",
              "    .dataframe thead th {\n",
              "        text-align: right;\n",
              "    }\n",
              "</style>\n",
              "<table border=\"1\" class=\"dataframe\">\n",
              "  <thead>\n",
              "    <tr style=\"text-align: right;\">\n",
              "      <th></th>\n",
              "      <th>GIS_ACRES</th>\n",
              "    </tr>\n",
              "    <tr>\n",
              "      <th>C_METHOD</th>\n",
              "      <th></th>\n",
              "    </tr>\n",
              "  </thead>\n",
              "  <tbody>\n",
              "    <tr>\n",
              "      <th>1 - GPS Ground</th>\n",
              "      <td>1341.645408</td>\n",
              "    </tr>\n",
              "    <tr>\n",
              "      <th>2 - GPS Air</th>\n",
              "      <td>4577.072916</td>\n",
              "    </tr>\n",
              "    <tr>\n",
              "      <th>3 - Infrared</th>\n",
              "      <td>17121.438162</td>\n",
              "    </tr>\n",
              "    <tr>\n",
              "      <th>4 - Other Imagery</th>\n",
              "      <td>1762.808579</td>\n",
              "    </tr>\n",
              "    <tr>\n",
              "      <th>5 - Photo Interpretation</th>\n",
              "      <td>5543.280514</td>\n",
              "    </tr>\n",
              "    <tr>\n",
              "      <th>6 - Hand Drawn</th>\n",
              "      <td>1844.305678</td>\n",
              "    </tr>\n",
              "    <tr>\n",
              "      <th>7 - Mixed Collection Methods</th>\n",
              "      <td>8024.885956</td>\n",
              "    </tr>\n",
              "    <tr>\n",
              "      <th>8 - Unknown</th>\n",
              "      <td>4524.208567</td>\n",
              "    </tr>\n",
              "    <tr>\n",
              "      <th>&lt;Null&gt;</th>\n",
              "      <td>2113.970483</td>\n",
              "    </tr>\n",
              "  </tbody>\n",
              "</table>\n",
              "</div>"
            ],
            "text/plain": [
              "                                 GIS_ACRES\n",
              "C_METHOD                                  \n",
              "1 - GPS Ground                 1341.645408\n",
              "2 - GPS Air                    4577.072916\n",
              "3 - Infrared                  17121.438162\n",
              "4 - Other Imagery              1762.808579\n",
              "5 - Photo Interpretation       5543.280514\n",
              "6 - Hand Drawn                 1844.305678\n",
              "7 - Mixed Collection Methods   8024.885956\n",
              "8 - Unknown                    4524.208567\n",
              "<Null>                         2113.970483"
            ]
          },
          "metadata": {
            "tags": []
          },
          "execution_count": 10
        }
      ]
    }
  ]
}